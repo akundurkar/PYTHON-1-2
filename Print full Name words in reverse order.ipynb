{
 "cells": [
  {
   "cell_type": "code",
   "execution_count": 1,
   "metadata": {},
   "outputs": [
    {
     "name": "stdin",
     "output_type": "stream",
     "text": [
      "Please enter your name: Amol Kundurkar\n"
     ]
    },
    {
     "name": "stdout",
     "output_type": "stream",
     "text": [
      "Your name is:  Kundurkar Amol\n"
     ]
    }
   ],
   "source": [
    "#Ask for name\n",
    "name = input(\"Please enter your name:\")\n",
    "#split the name\n",
    "splitStr = name.split()\n",
    "#reverse it\n",
    "splitStr.reverse()\n",
    "#Print the output in reverse order\n",
    "print(\"Your name is: \", \" \".join(splitStr))\n"
   ]
  },
  {
   "cell_type": "code",
   "execution_count": null,
   "metadata": {},
   "outputs": [],
   "source": []
  }
 ],
 "metadata": {
  "kernelspec": {
   "display_name": "Python 3",
   "language": "python",
   "name": "python3"
  },
  "language_info": {
   "codemirror_mode": {
    "name": "ipython",
    "version": 3
   },
   "file_extension": ".py",
   "mimetype": "text/x-python",
   "name": "python",
   "nbconvert_exporter": "python",
   "pygments_lexer": "ipython3",
   "version": "3.7.1"
  }
 },
 "nbformat": 4,
 "nbformat_minor": 2
}
