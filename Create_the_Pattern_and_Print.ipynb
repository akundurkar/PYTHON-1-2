{
 "cells": [
  {
   "cell_type": "code",
   "execution_count": 10,
   "metadata": {},
   "outputs": [
    {
     "name": "stdin",
     "output_type": "stream",
     "text": [
      "Please enter the maximum number of * stars -->:  6\n"
     ]
    },
    {
     "name": "stdout",
     "output_type": "stream",
     "text": [
      "You have entered :: 6\n",
      "*\n",
      "**\n",
      "***\n",
      "****\n",
      "*****\n",
      "******\n",
      "*****\n",
      "****\n",
      "***\n",
      "**\n",
      "*\n"
     ]
    }
   ],
   "source": [
    "# ask for the max number of * in a row\n",
    "\n",
    "try:\n",
    "    maxLen = int(input(\"Please enter the maximum number of * stars -->: \"))\n",
    "except:\n",
    "    print(\"Input is invalid, please try a valid number!!\")\n",
    "\n",
    "print (\"You have entered ::\",maxLen)\n",
    "\n",
    "# loop for number of rows\n",
    "for i in range(maxLen):\n",
    "    string = \"\"\n",
    "    for j in range(i+1):\n",
    "                 # append * (i+1) times \n",
    "        string += \"*\"\n",
    "\n",
    "    # print the upper half of the required pattern\n",
    "    print(string)\n",
    "# reset the string for reverse printing\n",
    "string = \"\"\n",
    "\n",
    "# Reverse print the pattern in decreasing order (lower half).\n",
    "\n",
    "for i in range(maxLen - 1, 0, -1):\n",
    "\n",
    "    # clear string for every row\n",
    "    string = \"\"\n",
    "\n",
    "    # loop for column in i'th row\n",
    "    for j in range(i):\n",
    "\n",
    "        # append * i times\n",
    "        string += \"*\"\n",
    "        \n",
    "    print(string)\n"
   ]
  },
  {
   "cell_type": "code",
   "execution_count": null,
   "metadata": {},
   "outputs": [],
   "source": []
  }
 ],
 "metadata": {
  "kernelspec": {
   "display_name": "Python 3",
   "language": "python",
   "name": "python3"
  },
  "language_info": {
   "codemirror_mode": {
    "name": "ipython",
    "version": 3
   },
   "file_extension": ".py",
   "mimetype": "text/x-python",
   "name": "python",
   "nbconvert_exporter": "python",
   "pygments_lexer": "ipython3",
   "version": "3.7.1"
  }
 },
 "nbformat": 4,
 "nbformat_minor": 2
}
