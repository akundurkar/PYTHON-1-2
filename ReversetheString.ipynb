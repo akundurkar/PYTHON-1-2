{
 "cells": [
  {
   "cell_type": "code",
   "execution_count": 7,
   "metadata": {},
   "outputs": [
    {
     "name": "stdin",
     "output_type": "stream",
     "text": [
      " Please enter any string How are you Dear ?\n"
     ]
    },
    {
     "name": "stdout",
     "output_type": "stream",
     "text": [
      " \n",
      "Your entered string is How are you Dear ?\n",
      " Entered string in reverse order is :: ? raeD uoy era woH\n"
     ]
    }
   ],
   "source": [
    "\n",
    "  \n",
    "# Function to reverse a string \n",
    "def reverse(string): \n",
    "    string = string[::-1] \n",
    "    return string \n",
    "\n",
    "enteredstr = input (\" Please enter any string\")\n",
    "print (\" \\nYour entered string is \"+ enteredstr)\n",
    "print (\" Entered string in reverse order is ::\", reverse(enteredstr))\n"
   ]
  },
  {
   "cell_type": "code",
   "execution_count": null,
   "metadata": {},
   "outputs": [],
   "source": []
  }
 ],
 "metadata": {
  "kernelspec": {
   "display_name": "Python 3",
   "language": "python",
   "name": "python3"
  },
  "language_info": {
   "codemirror_mode": {
    "name": "ipython",
    "version": 3
   },
   "file_extension": ".py",
   "mimetype": "text/x-python",
   "name": "python",
   "nbconvert_exporter": "python",
   "pygments_lexer": "ipython3",
   "version": "3.7.1"
  }
 },
 "nbformat": 4,
 "nbformat_minor": 2
}
